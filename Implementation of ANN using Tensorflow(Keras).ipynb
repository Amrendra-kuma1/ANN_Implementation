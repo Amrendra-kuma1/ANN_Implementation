{
 "cells": [
  {
   "cell_type": "markdown",
   "id": "281145e0",
   "metadata": {},
   "source": [
    "# Implementation of ANN using Keras"
   ]
  },
  {
   "cell_type": "code",
   "execution_count": 1,
   "id": "adfe57e8",
   "metadata": {},
   "outputs": [],
   "source": [
    "## Importing Libariries\n",
    "import numpy as np\n",
    "import pandas as pd\n",
    "import tensorflow as tf\n",
    "import matplotlib.pyplot as plt\n",
    "import seaborn as sns\n",
    "import os\n"
   ]
  },
  {
   "cell_type": "code",
   "execution_count": 2,
   "id": "6496950b",
   "metadata": {},
   "outputs": [],
   "source": [
    "mnist = tf.keras.datasets.mnist"
   ]
  },
  {
   "cell_type": "code",
   "execution_count": 3,
   "id": "3df4e114",
   "metadata": {},
   "outputs": [
    {
     "data": {
      "text/plain": [
       "<module 'keras.api._v2.keras.datasets.mnist' from 'C:\\\\Users\\\\nk141\\\\anaconda3\\\\lib\\\\site-packages\\\\keras\\\\api\\\\_v2\\\\keras\\\\datasets\\\\mnist\\\\__init__.py'>"
      ]
     },
     "execution_count": 3,
     "metadata": {},
     "output_type": "execute_result"
    }
   ],
   "source": [
    "mnist"
   ]
  },
  {
   "cell_type": "code",
   "execution_count": 4,
   "id": "2aaf9c11",
   "metadata": {},
   "outputs": [
    {
     "name": "stdout",
     "output_type": "stream",
     "text": [
      "Downloading data from https://storage.googleapis.com/tensorflow/tf-keras-datasets/mnist.npz\n",
      "11490434/11490434 [==============================] - 4s 0us/step\n"
     ]
    }
   ],
   "source": [
    "(X_train_full, y_train_full), (X_test, y_test) = mnist.load_data() "
   ]
  },
  {
   "cell_type": "code",
   "execution_count": 7,
   "id": "3b97292c",
   "metadata": {},
   "outputs": [
    {
     "data": {
      "text/plain": [
       "(60000, 28, 28)"
      ]
     },
     "execution_count": 7,
     "metadata": {},
     "output_type": "execute_result"
    }
   ],
   "source": [
    "X_train_full.shape"
   ]
  },
  {
   "cell_type": "code",
   "execution_count": 8,
   "id": "b568859d",
   "metadata": {},
   "outputs": [
    {
     "data": {
      "text/plain": [
       "(10000, 28, 28)"
      ]
     },
     "execution_count": 8,
     "metadata": {},
     "output_type": "execute_result"
    }
   ],
   "source": [
    "X_test.shape"
   ]
  },
  {
   "cell_type": "code",
   "execution_count": 10,
   "id": "291917c7",
   "metadata": {},
   "outputs": [
    {
     "data": {
      "text/plain": [
       "array([[  0,   0,   0,   0,   0,   0,   0,   0,   0,   0,   0,   0,   0,\n",
       "          0,   0,   0,   0,   0,   0,   0,   0,   0,   0,   0,   0,   0,\n",
       "          0,   0],\n",
       "       [  0,   0,   0,   0,   0,   0,   0,   0,   0,   0,   0,   0,   0,\n",
       "          0,   0,   0,   0,   0,   0,   0,   0,   0,   0,   0,   0,   0,\n",
       "          0,   0],\n",
       "       [  0,   0,   0,   0,   0,   0,   0,   0,   0,   0,   0,   0,   0,\n",
       "          0,   0,   0,   0,   0,   0,   0,   0,   0,   0,   0,   0,   0,\n",
       "          0,   0],\n",
       "       [  0,   0,   0,   0,   0,   0,   0,   0,   0,   0,   0,   0,   0,\n",
       "          0,   0,   0,   0,   0,   0,   0,   0,   0,   0,   0,   0,   0,\n",
       "          0,   0],\n",
       "       [  0,   0,   0,   0,   0,   0,   0,   0,   0,   0,   0,   0,   0,\n",
       "          0,   0,   0,   0,   0,   0,   0,   0,   0,   0,   0,   0,   0,\n",
       "          0,   0],\n",
       "       [  0,   0,   0,   0,   0,   0,   0,   0,   0,   0,   0,   0,   3,\n",
       "         18,  18,  18, 126, 136, 175,  26, 166, 255, 247, 127,   0,   0,\n",
       "          0,   0],\n",
       "       [  0,   0,   0,   0,   0,   0,   0,   0,  30,  36,  94, 154, 170,\n",
       "        253, 253, 253, 253, 253, 225, 172, 253, 242, 195,  64,   0,   0,\n",
       "          0,   0],\n",
       "       [  0,   0,   0,   0,   0,   0,   0,  49, 238, 253, 253, 253, 253,\n",
       "        253, 253, 253, 253, 251,  93,  82,  82,  56,  39,   0,   0,   0,\n",
       "          0,   0],\n",
       "       [  0,   0,   0,   0,   0,   0,   0,  18, 219, 253, 253, 253, 253,\n",
       "        253, 198, 182, 247, 241,   0,   0,   0,   0,   0,   0,   0,   0,\n",
       "          0,   0],\n",
       "       [  0,   0,   0,   0,   0,   0,   0,   0,  80, 156, 107, 253, 253,\n",
       "        205,  11,   0,  43, 154,   0,   0,   0,   0,   0,   0,   0,   0,\n",
       "          0,   0],\n",
       "       [  0,   0,   0,   0,   0,   0,   0,   0,   0,  14,   1, 154, 253,\n",
       "         90,   0,   0,   0,   0,   0,   0,   0,   0,   0,   0,   0,   0,\n",
       "          0,   0],\n",
       "       [  0,   0,   0,   0,   0,   0,   0,   0,   0,   0,   0, 139, 253,\n",
       "        190,   2,   0,   0,   0,   0,   0,   0,   0,   0,   0,   0,   0,\n",
       "          0,   0],\n",
       "       [  0,   0,   0,   0,   0,   0,   0,   0,   0,   0,   0,  11, 190,\n",
       "        253,  70,   0,   0,   0,   0,   0,   0,   0,   0,   0,   0,   0,\n",
       "          0,   0],\n",
       "       [  0,   0,   0,   0,   0,   0,   0,   0,   0,   0,   0,   0,  35,\n",
       "        241, 225, 160, 108,   1,   0,   0,   0,   0,   0,   0,   0,   0,\n",
       "          0,   0],\n",
       "       [  0,   0,   0,   0,   0,   0,   0,   0,   0,   0,   0,   0,   0,\n",
       "         81, 240, 253, 253, 119,  25,   0,   0,   0,   0,   0,   0,   0,\n",
       "          0,   0],\n",
       "       [  0,   0,   0,   0,   0,   0,   0,   0,   0,   0,   0,   0,   0,\n",
       "          0,  45, 186, 253, 253, 150,  27,   0,   0,   0,   0,   0,   0,\n",
       "          0,   0],\n",
       "       [  0,   0,   0,   0,   0,   0,   0,   0,   0,   0,   0,   0,   0,\n",
       "          0,   0,  16,  93, 252, 253, 187,   0,   0,   0,   0,   0,   0,\n",
       "          0,   0],\n",
       "       [  0,   0,   0,   0,   0,   0,   0,   0,   0,   0,   0,   0,   0,\n",
       "          0,   0,   0,   0, 249, 253, 249,  64,   0,   0,   0,   0,   0,\n",
       "          0,   0],\n",
       "       [  0,   0,   0,   0,   0,   0,   0,   0,   0,   0,   0,   0,   0,\n",
       "          0,  46, 130, 183, 253, 253, 207,   2,   0,   0,   0,   0,   0,\n",
       "          0,   0],\n",
       "       [  0,   0,   0,   0,   0,   0,   0,   0,   0,   0,   0,   0,  39,\n",
       "        148, 229, 253, 253, 253, 250, 182,   0,   0,   0,   0,   0,   0,\n",
       "          0,   0],\n",
       "       [  0,   0,   0,   0,   0,   0,   0,   0,   0,   0,  24, 114, 221,\n",
       "        253, 253, 253, 253, 201,  78,   0,   0,   0,   0,   0,   0,   0,\n",
       "          0,   0],\n",
       "       [  0,   0,   0,   0,   0,   0,   0,   0,  23,  66, 213, 253, 253,\n",
       "        253, 253, 198,  81,   2,   0,   0,   0,   0,   0,   0,   0,   0,\n",
       "          0,   0],\n",
       "       [  0,   0,   0,   0,   0,   0,  18, 171, 219, 253, 253, 253, 253,\n",
       "        195,  80,   9,   0,   0,   0,   0,   0,   0,   0,   0,   0,   0,\n",
       "          0,   0],\n",
       "       [  0,   0,   0,   0,  55, 172, 226, 253, 253, 253, 253, 244, 133,\n",
       "         11,   0,   0,   0,   0,   0,   0,   0,   0,   0,   0,   0,   0,\n",
       "          0,   0],\n",
       "       [  0,   0,   0,   0, 136, 253, 253, 253, 212, 135, 132,  16,   0,\n",
       "          0,   0,   0,   0,   0,   0,   0,   0,   0,   0,   0,   0,   0,\n",
       "          0,   0],\n",
       "       [  0,   0,   0,   0,   0,   0,   0,   0,   0,   0,   0,   0,   0,\n",
       "          0,   0,   0,   0,   0,   0,   0,   0,   0,   0,   0,   0,   0,\n",
       "          0,   0],\n",
       "       [  0,   0,   0,   0,   0,   0,   0,   0,   0,   0,   0,   0,   0,\n",
       "          0,   0,   0,   0,   0,   0,   0,   0,   0,   0,   0,   0,   0,\n",
       "          0,   0],\n",
       "       [  0,   0,   0,   0,   0,   0,   0,   0,   0,   0,   0,   0,   0,\n",
       "          0,   0,   0,   0,   0,   0,   0,   0,   0,   0,   0,   0,   0,\n",
       "          0,   0]], dtype=uint8)"
      ]
     },
     "execution_count": 10,
     "metadata": {},
     "output_type": "execute_result"
    }
   ],
   "source": [
    "X_train_full[0]"
   ]
  },
  {
   "cell_type": "code",
   "execution_count": 12,
   "id": "249de5e9",
   "metadata": {},
   "outputs": [
    {
     "data": {
      "text/plain": [
       "(28, 28)"
      ]
     },
     "execution_count": 12,
     "metadata": {},
     "output_type": "execute_result"
    }
   ],
   "source": [
    "X_train_full[0].shape"
   ]
  },
  {
   "cell_type": "code",
   "execution_count": 13,
   "id": "701275e0",
   "metadata": {},
   "outputs": [
    {
     "name": "stdout",
     "output_type": "stream",
     "text": [
      "data type of X_train_full: (X_train_full.dtypes),\n",
      " shape of X_train_full: (X_train_full.shape)\n"
     ]
    }
   ],
   "source": [
    "print(f\"data type of X_train_full: (X_train_full.dtypes),\\n shape of X_train_full: (X_train_full.shape)\")"
   ]
  },
  {
   "cell_type": "code",
   "execution_count": 14,
   "id": "c62e3065",
   "metadata": {},
   "outputs": [],
   "source": [
    "## Create a validiate data set from the full tarining data\n",
    "## Scale the data between 0 to 1 by dividing it by 255. as its an unsigned data between 0-255 range\n",
    "X_valid, X_train = X_train_full[:5000] / 255., X_train_full[5000:] / 255.\n",
    "y_valid, y_train = y_train_full[:5000], y_train_full[5000:]\n",
    "\n",
    "# scaled the test set as well\n",
    "X_test = X_test / 255"
   ]
  },
  {
   "cell_type": "code",
   "execution_count": 15,
   "id": "08a055de",
   "metadata": {},
   "outputs": [],
   "source": [
    "## Train - 55000\n",
    "## Test - 10000\n",
    "## Validiate  - 5000"
   ]
  },
  {
   "cell_type": "code",
   "execution_count": 16,
   "id": "891fb4a3",
   "metadata": {},
   "outputs": [
    {
     "data": {
      "text/plain": [
       "55000"
      ]
     },
     "execution_count": 16,
     "metadata": {},
     "output_type": "execute_result"
    }
   ],
   "source": [
    "len(X_train_full[5000:])"
   ]
  },
  {
   "cell_type": "code",
   "execution_count": 18,
   "id": "2033aa44",
   "metadata": {},
   "outputs": [
    {
     "data": {
      "image/png": "[encoded data removed]",
      "text/plain": [
       "<Figure size 640x480 with 1 Axes>"
      ]
     },
     "metadata": {},
     "output_type": "display_data"
    }
   ],
   "source": [
    "## Let's visualize some data\n",
    "\n",
    "plt.imshow(X_train[0], cmap=\"binary\")\n",
    "plt.show()"
   ]
  },
  {
   "cell_type": "code",
   "execution_count": 20,
   "id": "7db7f444",
   "metadata": {},
   "outputs": [
    {
     "data": {
      "text/plain": [
       "<AxesSubplot:>"
      ]
     },
     "execution_count": 20,
     "metadata": {},
     "output_type": "execute_result"
    },
    {
     "data": {
      "image/png": "[encoded data removed]",
      "text/plain": [
       "<Figure size 1500x1500 with 2 Axes>"
      ]
     },
     "metadata": {},
     "output_type": "display_data"
    }
   ],
   "source": [
    "plt.figure(figsize=(15,15))\n",
    "sns.heatmap(X_train[0], annot=True, cmap=\"binary\")"
   ]
  },
  {
   "cell_type": "code",
   "execution_count": 21,
   "id": "9390cb65",
   "metadata": {},
   "outputs": [
    {
     "data": {
      "text/plain": [
       "784"
      ]
     },
     "execution_count": 21,
     "metadata": {},
     "output_type": "execute_result"
    }
   ],
   "source": [
    "## Imput is\n",
    "28*28"
   ]
  },
  {
   "cell_type": "code",
   "execution_count": 22,
   "id": "abf6f852",
   "metadata": {},
   "outputs": [],
   "source": [
    "## now cxreating layers of ANN\n",
    "LAYERS = [tf.keras.layers.Flatten(input_shape=[28,28], name=\"inputLayer\"),\n",
    "         tf.keras.layers.Dense(300, activation='relu', name=\"hiddenlayer1\"),\n",
    "         tf.keras.layers.Dense(100, activation='relu', name=\"hiddenlayer2\"),\n",
    "         tf.keras.layers.Dense(10, activation='softmax', name=\"outputlayer\")]\n",
    "\n",
    "\n",
    "model_clf = tf.keras.models.Sequential(LAYERS)"
   ]
  },
  {
   "cell_type": "code",
   "execution_count": 23,
   "id": "228be2a5",
   "metadata": {},
   "outputs": [
    {
     "data": {
      "text/plain": [
       "[<keras.src.layers.reshaping.flatten.Flatten at 0x2adfe022700>,\n",
       " <keras.src.layers.core.dense.Dense at 0x2adfe037d60>,\n",
       " <keras.src.layers.core.dense.Dense at 0x2adfe037e80>,\n",
       " <keras.src.layers.core.dense.Dense at 0x2adfe06b280>]"
      ]
     },
     "execution_count": 23,
     "metadata": {},
     "output_type": "execute_result"
    }
   ],
   "source": [
    "model_clf.layers"
   ]
  },
  {
   "cell_type": "code",
   "execution_count": 24,
   "id": "e91674e8",
   "metadata": {},
   "outputs": [
    {
     "name": "stdout",
     "output_type": "stream",
     "text": [
      "Model: \"sequential\"\n",
      "_________________________________________________________________\n",
      " Layer (type)                Output Shape              Param #   \n",
      "=================================================================\n",
      " inputLayer (Flatten)        (None, 784)               0         \n",
      "                                                                 \n",
      " hiddenlayer1 (Dense)        (None, 300)               235500    \n",
      "                                                                 \n",
      " hiddenlayer2 (Dense)        (None, 100)               30100     \n",
      "                                                                 \n",
      " outputlayer (Dense)         (None, 10)                1010      \n",
      "                                                                 \n",
      "=================================================================\n",
      "Total params: 266610 (1.02 MB)\n",
      "Trainable params: 266610 (1.02 MB)\n",
      "Non-trainable params: 0 (0.00 Byte)\n",
      "_________________________________________________________________\n"
     ]
    }
   ],
   "source": [
    "model_clf.summary()"
   ]
  },
  {
   "cell_type": "code",
   "execution_count": 26,
   "id": "f6f11f5f",
   "metadata": {},
   "outputs": [
    {
     "data": {
      "text/plain": [
       "(235500, 30100, 1010)"
      ]
     },
     "execution_count": 26,
     "metadata": {},
     "output_type": "execute_result"
    }
   ],
   "source": [
    "## Let's verify\n",
    "## firdtlayer * secondlayer + bias\n",
    "784*300+300, 300*100+100, 100*10+10"
   ]
  },
  {
   "cell_type": "code",
   "execution_count": 28,
   "id": "03fbe781",
   "metadata": {},
   "outputs": [
    {
     "data": {
      "text/plain": [
       "266610"
      ]
     },
     "execution_count": 28,
     "metadata": {},
     "output_type": "execute_result"
    }
   ],
   "source": [
    "## Total parameters to be trained\n",
    "sum((235500, 30100, 1010))"
   ]
  },
  {
   "cell_type": "code",
   "execution_count": 42,
   "id": "6c1b94f1",
   "metadata": {},
   "outputs": [
    {
     "data": {
      "text/plain": [
       "'outputlayer'"
      ]
     },
     "execution_count": 42,
     "metadata": {},
     "output_type": "execute_result"
    }
   ],
   "source": [
    "hidden1 = model_clf.layers[3]\n",
    "\n",
    "hidden1.name"
   ]
  },
  {
   "cell_type": "code",
   "execution_count": 31,
   "id": "aea2ee41",
   "metadata": {},
   "outputs": [
    {
     "data": {
      "text/plain": [
       "2"
      ]
     },
     "execution_count": 31,
     "metadata": {},
     "output_type": "execute_result"
    }
   ],
   "source": [
    "len(hidden1.get_weights())"
   ]
  },
  {
   "cell_type": "code",
   "execution_count": 32,
   "id": "f2b3b653",
   "metadata": {},
   "outputs": [
    {
     "data": {
      "text/plain": [
       "[array([[-2.22045109e-01,  8.96773636e-02, -1.50939494e-01,\n",
       "         -1.00667924e-01, -1.09229460e-01, -1.99828148e-01,\n",
       "         -4.10352200e-02, -1.22077763e-03, -3.19375247e-02,\n",
       "          2.37174332e-02],\n",
       "        [ 6.42533004e-02, -1.24592952e-01, -1.79522425e-01,\n",
       "         -5.92532903e-02,  2.08006293e-01, -4.34581339e-02,\n",
       "         -4.03426439e-02, -1.99094355e-01,  1.07319117e-01,\n",
       "          1.55656308e-01],\n",
       "        [-6.73542619e-02,  2.53615379e-02, -1.39647409e-01,\n",
       "          2.15630352e-01, -1.51274994e-01,  1.72777086e-01,\n",
       "          2.03489274e-01, -2.29275376e-01, -1.30966440e-01,\n",
       "         -2.21097171e-02],\n",
       "        [-1.90342948e-01, -1.12135537e-01, -1.11053288e-01,\n",
       "         -8.89286995e-02,  2.38293707e-02, -1.59123898e-01,\n",
       "          4.37293053e-02,  8.06035399e-02,  9.76639688e-02,\n",
       "         -3.88319194e-02],\n",
       "        [-9.06135440e-02, -6.29490465e-02,  3.44000757e-03,\n",
       "          1.89224482e-02, -1.21693164e-02,  4.18718457e-02,\n",
       "          2.37590373e-02, -1.43669426e-01,  1.62062377e-01,\n",
       "          1.80123568e-01],\n",
       "        [ 1.60325706e-01,  7.10737407e-02, -2.12009698e-02,\n",
       "          5.79589605e-03,  1.54390991e-01, -1.57321900e-01,\n",
       "         -1.00121289e-01,  2.05006450e-01, -4.39739227e-02,\n",
       "         -2.00539678e-02],\n",
       "        [-1.70661271e-01,  1.13943368e-01, -1.96258724e-03,\n",
       "          1.98385060e-01,  7.80581832e-02,  2.59548724e-02,\n",
       "          1.58257484e-01,  9.74140763e-02, -1.02624670e-01,\n",
       "         -1.12454265e-01],\n",
       "        [-1.98402226e-01,  1.83736086e-01,  2.06067592e-01,\n",
       "         -3.15811038e-02,  7.62777925e-02,  2.32885778e-02,\n",
       "          2.02805996e-01,  1.91481888e-01,  1.18182391e-01,\n",
       "         -9.23362374e-03],\n",
       "        [ 9.61928070e-03,  1.44967437e-01,  3.13719511e-02,\n",
       "         -6.76689297e-02, -9.06628817e-02, -5.55455536e-02,\n",
       "         -9.70538557e-02, -1.59622580e-01,  3.97996604e-03,\n",
       "         -6.28880709e-02],\n",
       "        [-7.53618181e-02,  9.77575183e-02, -7.80091286e-02,\n",
       "          1.29066885e-01, -2.18638167e-01,  2.33004987e-01,\n",
       "          7.42809474e-02, -3.93001735e-03,  2.24873781e-01,\n",
       "         -4.07387763e-02],\n",
       "        [-1.01159722e-01, -5.47048002e-02, -3.67286801e-02,\n",
       "          9.85544324e-02, -1.19998805e-01, -8.04809332e-02,\n",
       "         -5.79126775e-02,  1.07307196e-01, -1.76312715e-01,\n",
       "         -3.38248909e-02],\n",
       "        [ 4.92685139e-02, -1.22207105e-02,  2.06868976e-01,\n",
       "         -5.29470146e-02, -2.64753401e-02,  7.27697313e-02,\n",
       "          2.31480867e-01,  1.14489526e-01, -1.84879318e-01,\n",
       "          8.51722062e-02],\n",
       "        [ 1.54350787e-01, -1.24719188e-01, -4.10628468e-02,\n",
       "         -7.51623064e-02,  1.71103060e-01, -1.93717539e-01,\n",
       "          1.64315104e-04, -8.54826272e-02, -2.10438132e-01,\n",
       "          2.25680500e-01],\n",
       "        [-1.33147091e-02,  8.11240077e-02,  1.09332293e-01,\n",
       "         -2.18942314e-02, -2.23547637e-01, -2.69553214e-02,\n",
       "          6.13515079e-02,  8.01613629e-02, -3.43938470e-02,\n",
       "          1.29107654e-01],\n",
       "        [ 6.19590580e-02, -2.10292801e-01, -2.00524509e-01,\n",
       "          1.07803196e-01, -7.74350911e-02,  1.52263910e-01,\n",
       "          6.69392049e-02, -5.22251427e-02, -2.67389417e-02,\n",
       "          3.08229327e-02],\n",
       "        [-1.26232356e-02, -2.38032490e-02,  9.53836739e-03,\n",
       "          1.53391212e-01, -1.92399412e-01,  1.39219314e-01,\n",
       "         -1.59614414e-01, -1.22460589e-01,  1.97441190e-01,\n",
       "         -9.75163579e-02],\n",
       "        [ 1.55499011e-01,  1.94112271e-01,  6.03764653e-02,\n",
       "          1.58606321e-01, -4.47037071e-02,  2.27194756e-01,\n",
       "         -1.97426230e-01, -1.83763385e-01,  4.94150519e-02,\n",
       "          1.54043019e-01],\n",
       "        [-2.10619867e-01,  2.35916972e-02,  1.48287833e-01,\n",
       "          2.33298838e-02,  1.34164572e-01, -1.41696632e-02,\n",
       "         -3.50327045e-02, -2.10144684e-01,  1.97342932e-01,\n",
       "          1.65805876e-01],\n",
       "        [ 1.25521362e-01, -1.73856452e-01, -4.75412309e-02,\n",
       "         -1.57100052e-01, -4.02050465e-02,  3.23274136e-02,\n",
       "          1.35492593e-01,  1.05370671e-01, -7.16899335e-02,\n",
       "         -2.01238528e-01],\n",
       "        [ 7.76549280e-02,  1.53968811e-01,  1.05910569e-01,\n",
       "         -2.34026164e-02, -2.65725106e-02,  3.87682617e-02,\n",
       "          1.57667458e-01,  2.27075070e-01, -1.54902995e-01,\n",
       "         -2.06854120e-01],\n",
       "        [-1.89610109e-01,  1.62408829e-01,  1.25881404e-01,\n",
       "         -2.03446895e-02,  1.50448829e-01, -2.00419769e-01,\n",
       "          2.25349814e-01, -2.49069929e-02, -1.16097182e-01,\n",
       "          2.07747102e-01],\n",
       "        [ 1.57579750e-01,  1.66475624e-01,  1.11820102e-01,\n",
       "          1.63597167e-01,  1.58561736e-01, -1.57948658e-01,\n",
       "          1.67908818e-01,  1.89948827e-01,  2.15604246e-01,\n",
       "         -2.33476743e-01],\n",
       "        [-1.29650891e-01, -3.48059088e-02, -4.49426919e-02,\n",
       "         -1.95072129e-01,  2.19111294e-01, -4.29093838e-04,\n",
       "         -1.63666040e-01,  3.18962634e-02,  4.59868610e-02,\n",
       "         -4.83079255e-02],\n",
       "        [ 8.80377889e-02, -2.05200315e-02, -5.85870445e-03,\n",
       "         -2.05194324e-01, -3.20349634e-02,  1.10034466e-01,\n",
       "         -1.89498127e-01,  3.55875790e-02,  1.31994069e-01,\n",
       "          2.02577144e-01],\n",
       "        [-1.04840338e-01,  1.99383199e-01, -1.09434985e-01,\n",
       "         -1.88236415e-01, -4.29596156e-02,  9.33531821e-02,\n",
       "         -1.22741066e-01,  5.04627228e-02, -2.19384924e-01,\n",
       "         -3.83405834e-02],\n",
       "        [ 1.76493466e-01,  1.17017180e-01,  1.07456148e-01,\n",
       "          5.40156662e-02,  1.73700988e-01,  9.15074646e-02,\n",
       "         -2.28919238e-01, -7.50755966e-02, -2.15838104e-01,\n",
       "          2.07575262e-02],\n",
       "        [-1.29430294e-02,  1.51497275e-01, -1.13013148e-01,\n",
       "          1.29256636e-01,  3.73046696e-02,  2.06389070e-01,\n",
       "          1.48665875e-01, -5.12602925e-03,  2.59489119e-02,\n",
       "         -2.57831514e-02],\n",
       "        [ 1.99383199e-01, -6.77073002e-02, -4.21198159e-02,\n",
       "         -1.38042301e-01,  2.43498385e-02, -1.78867996e-01,\n",
       "          8.11734498e-02, -2.16164470e-01, -9.10226554e-02,\n",
       "         -1.90556884e-01],\n",
       "        [-4.18063700e-02,  1.23363942e-01, -2.13180050e-01,\n",
       "          6.44258559e-02, -1.18178323e-01, -1.25360548e-01,\n",
       "          1.73974335e-01,  1.03901744e-01, -6.59242272e-03,\n",
       "          1.70218110e-01],\n",
       "        [-1.75422743e-01, -1.40867203e-01, -1.80549994e-01,\n",
       "         -1.20434582e-01,  8.66516232e-02,  1.83277339e-01,\n",
       "         -1.83825582e-01,  2.23889530e-01,  2.14519203e-01,\n",
       "          1.95015043e-01],\n",
       "        [ 4.44190502e-02, -9.29006487e-02, -1.88382864e-01,\n",
       "          1.70561701e-01,  1.02521271e-01,  8.50978494e-02,\n",
       "         -2.21207201e-01, -3.89822125e-02,  1.01875007e-01,\n",
       "         -1.36578858e-01],\n",
       "        [-1.58578545e-01,  1.36622161e-01, -1.18804030e-01,\n",
       "          1.54020578e-01,  1.93283439e-01, -4.99817431e-02,\n",
       "         -1.64623618e-01, -2.10851297e-01, -1.42067999e-01,\n",
       "          1.19435638e-01],\n",
       "        [ 1.98481530e-01, -7.13243783e-02,  7.33941495e-02,\n",
       "          6.07663393e-03, -1.15149915e-01,  8.58631134e-02,\n",
       "          4.58024442e-02,  1.30232602e-01, -1.48777798e-01,\n",
       "          1.81862444e-01],\n",
       "        [-1.67882487e-01,  2.21619189e-01,  3.26632857e-02,\n",
       "          5.41263819e-02, -1.74232930e-01,  1.64097697e-01,\n",
       "         -2.68479735e-02,  2.08267868e-02, -9.54355448e-02,\n",
       "          1.46366358e-01],\n",
       "        [-2.05045432e-01,  1.18676692e-01,  2.07667410e-01,\n",
       "         -1.01629674e-01, -4.77723181e-02, -1.01317972e-01,\n",
       "          1.87252581e-01,  1.06269151e-01, -1.24698363e-01,\n",
       "          8.70130062e-02],\n",
       "        [ 2.11455107e-01, -2.05566227e-01,  7.02154040e-02,\n",
       "         -6.17296994e-03,  5.32453656e-02, -1.25063360e-01,\n",
       "          6.63006306e-03, -1.90184861e-01,  8.24827850e-02,\n",
       "          4.21645343e-02],\n",
       "        [-8.76430571e-02,  9.43824351e-02,  8.35801661e-02,\n",
       "          5.16308844e-02,  6.95682466e-02,  6.03894889e-02,\n",
       "          3.19978893e-02, -4.23392504e-02, -1.57400131e-01,\n",
       "          1.27009481e-01],\n",
       "        [ 1.66699618e-01,  2.23262608e-01,  1.66412979e-01,\n",
       "         -1.66308880e-02, -1.80063888e-01,  2.11531609e-01,\n",
       "         -1.93264455e-01,  8.33409727e-02,  3.56097221e-02,\n",
       "          2.24385321e-01],\n",
       "        [-3.99249792e-03, -2.23630220e-02, -7.59053826e-02,\n",
       "         -5.41968048e-02,  1.30760521e-02, -4.15944457e-02,\n",
       "         -1.74044997e-01,  6.60680532e-02,  2.10935026e-01,\n",
       "          7.99884200e-02],\n",
       "        [ 5.72317243e-02, -1.65954977e-01, -2.45682895e-03,\n",
       "          1.47128135e-01, -2.14472994e-01,  2.01373994e-01,\n",
       "          6.57386482e-02, -1.19842954e-01, -1.08275458e-01,\n",
       "          1.46676123e-01],\n",
       "        [-2.45277286e-02, -1.72079846e-01, -7.62004405e-02,\n",
       "          7.62249529e-03,  6.03516400e-03, -1.76663548e-02,\n",
       "         -3.15134972e-02,  3.70635986e-02,  2.19777375e-01,\n",
       "          1.61661804e-01],\n",
       "        [-1.17001079e-01, -1.35094196e-01, -1.44308597e-01,\n",
       "         -2.24858075e-01, -7.81790167e-02,  1.05735391e-01,\n",
       "          1.91868097e-01, -1.27972662e-01,  2.17340887e-03,\n",
       "         -1.50453120e-01],\n",
       "        [-1.69820964e-01, -1.95053145e-01,  1.37867570e-01,\n",
       "          7.41630793e-03, -1.80337176e-01, -6.15012497e-02,\n",
       "          9.37567055e-02, -2.43767202e-02,  1.54203445e-01,\n",
       "          1.91154957e-01],\n",
       "        [ 3.14420164e-02, -4.19107229e-02, -1.97495520e-03,\n",
       "         -1.00428835e-01, -8.40564221e-02, -8.35698098e-02,\n",
       "          4.40028906e-02,  1.38112187e-01,  1.99430794e-01,\n",
       "         -2.00391144e-01],\n",
       "        [ 4.25168872e-02, -1.09696805e-01,  5.42142391e-02,\n",
       "          1.07484639e-01,  1.28151178e-02,  2.30382890e-01,\n",
       "         -1.52849749e-01, -1.24451913e-01, -1.54217333e-02,\n",
       "         -1.32665202e-01],\n",
       "        [ 1.59790248e-01, -1.86423346e-01, -1.24096319e-01,\n",
       "          2.24012941e-01,  7.92236328e-02,  7.25828707e-02,\n",
       "         -2.13808477e-01,  9.65242982e-02, -9.00742114e-02,\n",
       "         -1.15051411e-01],\n",
       "        [-1.76727384e-01, -6.33652806e-02,  4.31030989e-02,\n",
       "          2.04710275e-01,  1.84215963e-01, -4.11927551e-02,\n",
       "         -9.91479605e-02,  1.24409884e-01, -5.10087609e-02,\n",
       "         -1.88732147e-02],\n",
       "        [ 3.77571285e-02,  7.43744373e-02,  9.88079011e-02,\n",
       "         -2.12979198e-01,  8.17475021e-02, -8.02435577e-02,\n",
       "          3.68198752e-02, -8.46985579e-02, -1.97266191e-02,\n",
       "          1.45212173e-01],\n",
       "        [-1.18105933e-01, -1.90829337e-01,  3.94495428e-02,\n",
       "          1.38190091e-01, -6.14682883e-02,  4.41499949e-02,\n",
       "          8.97466838e-02, -9.42274630e-02, -2.16726974e-01,\n",
       "         -6.96946084e-02],\n",
       "        [-1.21370830e-01, -2.02482536e-01, -9.54902321e-02,\n",
       "          2.10234493e-01, -9.74277109e-02, -7.19976425e-03,\n",
       "          2.26330370e-01,  1.60735339e-01,  3.83907557e-02,\n",
       "         -1.64627403e-01],\n",
       "        [-9.64924544e-02,  5.46044111e-02,  1.68323427e-01,\n",
       "          1.28753126e-01,  2.10673511e-02, -8.48150998e-02,\n",
       "         -1.18320867e-01, -1.19742006e-02, -5.23373485e-02,\n",
       "         -7.04083443e-02],\n",
       "        [-3.55203599e-02, -5.41098267e-02,  1.76840752e-01,\n",
       "          1.98256791e-01,  5.12753427e-03, -1.45642132e-01,\n",
       "          1.21902823e-01,  1.87991321e-01,  9.98149812e-03,\n",
       "         -1.46511734e-01],\n",
       "        [-6.59439862e-02, -5.67999631e-02,  4.63028252e-03,\n",
       "          3.76679301e-02,  9.05879438e-02, -1.11000836e-01,\n",
       "          1.90260917e-01, -8.22761953e-02, -2.10070014e-01,\n",
       "          8.43739212e-02],\n",
       "        [ 1.82400554e-01,  1.81806862e-01,  3.00618112e-02,\n",
       "          1.34723395e-01, -2.07575381e-01,  1.90593511e-01,\n",
       "         -2.24068001e-01,  8.77078176e-02,  2.52520442e-02,\n",
       "          1.53986335e-01],\n",
       "        [-9.17111635e-02,  1.83047414e-01,  2.21312702e-01,\n",
       "         -2.32120708e-01, -8.77328664e-02,  1.01222634e-01,\n",
       "         -8.79547596e-02, -3.70239019e-02, -1.63487464e-01,\n",
       "          1.64557725e-01],\n",
       "        [-1.50546327e-01,  8.09622109e-02,  2.29574740e-02,\n",
       "          1.47994459e-01, -1.75617412e-01, -8.29502940e-02,\n",
       "          1.49054587e-01, -1.16060376e-01,  5.12526035e-02,\n",
       "         -1.80709526e-01],\n",
       "        [-1.46124363e-01, -6.44502491e-02,  5.84636927e-02,\n",
       "          1.00737154e-01, -2.30354369e-02, -1.73722148e-01,\n",
       "          1.91042215e-01,  6.05120957e-02, -1.96201533e-01,\n",
       "         -2.10145846e-01],\n",
       "        [ 1.52563751e-01, -2.92170346e-02, -9.59444046e-03,\n",
       "          5.52221537e-02,  6.84942603e-02, -1.17227264e-01,\n",
       "         -4.66661751e-02, -8.62000883e-02, -2.28754133e-01,\n",
       "          1.35448992e-01],\n",
       "        [-1.02900967e-01, -5.74461073e-02,  2.27384329e-01,\n",
       "         -7.91161507e-02,  1.58968717e-02,  1.82052583e-01,\n",
       "         -1.83455631e-01,  1.32713914e-02, -9.90319699e-02,\n",
       "         -1.02182999e-01],\n",
       "        [ 2.08203465e-01, -1.98295087e-01,  1.34658933e-01,\n",
       "         -7.89996982e-03,  1.11915857e-01, -1.76663578e-01,\n",
       "         -1.69243991e-01, -2.29920909e-01,  1.06056571e-01,\n",
       "          1.33414418e-01],\n",
       "        [ 1.53212070e-01, -1.08131453e-01,  1.92838699e-01,\n",
       "          1.93248063e-01,  2.29239464e-04, -6.20806813e-02,\n",
       "         -6.70030713e-02,  1.92646652e-01, -2.12221086e-01,\n",
       "          2.13794738e-01],\n",
       "        [ 4.17450666e-02,  1.28854722e-01, -2.17237577e-01,\n",
       "         -2.56895572e-02,  1.24553263e-01, -1.17029645e-01,\n",
       "          8.56100917e-02, -1.48219138e-01,  2.99662948e-02,\n",
       "          2.21373618e-01],\n",
       "        [ 8.17203522e-03,  1.81737304e-01, -1.08915634e-01,\n",
       "         -2.30988786e-01,  2.14201033e-01,  2.04541445e-01,\n",
       "          1.84168309e-01,  1.74750656e-01, -5.85109293e-02,\n",
       "          1.22010231e-01],\n",
       "        [ 4.03526127e-02,  7.04521239e-02, -5.97270876e-02,\n",
       "         -1.74679220e-01, -1.28372461e-01, -7.56055862e-02,\n",
       "         -8.09826851e-02,  1.64370477e-01,  9.89285111e-03,\n",
       "         -5.60269207e-02],\n",
       "        [ 4.01766598e-03,  1.66765451e-01, -6.50111437e-02,\n",
       "          1.72235131e-01,  6.66633546e-02,  1.16633534e-01,\n",
       "          2.99489498e-03, -1.23644069e-01, -1.56191200e-01,\n",
       "         -1.93013549e-01],\n",
       "        [-1.21897087e-01, -1.41646296e-01, -3.62047106e-02,\n",
       "          5.03208041e-02, -1.28121555e-01, -2.15855703e-01,\n",
       "          2.12987214e-01,  1.53337538e-01, -3.44589949e-02,\n",
       "          1.69038802e-01],\n",
       "        [-4.53154296e-02,  1.09557092e-01, -2.00203612e-01,\n",
       "          2.02679366e-01, -1.03309900e-01,  2.31371045e-01,\n",
       "          1.95493579e-01,  1.27653003e-01, -4.51926589e-02,\n",
       "          1.93282366e-01],\n",
       "        [-1.32337287e-01,  1.74396187e-01, -8.93165320e-02,\n",
       "         -7.83746243e-02,  1.54724598e-01,  1.99721694e-01,\n",
       "          1.40196502e-01,  9.20695364e-02, -1.88853115e-01,\n",
       "         -1.76987976e-01],\n",
       "        [ 2.20286995e-01,  1.31783932e-02, -6.36537671e-02,\n",
       "         -5.53648621e-02, -1.59437835e-01,  8.41505229e-02,\n",
       "          1.86101109e-01, -2.30867282e-01,  1.28027469e-01,\n",
       "          5.17190397e-02],\n",
       "        [-2.22253576e-01, -1.55334756e-01,  5.71804345e-02,\n",
       "         -1.64885491e-01, -2.34742761e-02, -1.81099355e-01,\n",
       "         -1.69918031e-01, -8.24085474e-02, -7.63356388e-02,\n",
       "          7.93122649e-02],\n",
       "        [ 1.76631212e-02, -1.21142194e-01, -1.48274094e-01,\n",
       "          1.75740421e-01,  9.36343372e-02,  1.45459026e-02,\n",
       "         -1.57553256e-02,  1.37063235e-01, -1.29090160e-01,\n",
       "         -6.20469302e-02],\n",
       "        [ 2.18578815e-01, -1.85404688e-01, -2.15210348e-01,\n",
       "         -1.33571059e-01, -1.36370212e-01,  2.66241729e-02,\n",
       "         -4.78012711e-02, -1.33617997e-01, -5.24043292e-02,\n",
       "         -1.08135417e-01],\n",
       "        [-4.92545962e-03, -2.62844563e-02, -1.95467755e-01,\n",
       "         -4.52655405e-02, -1.31010711e-01,  3.62269878e-02,\n",
       "         -1.12294398e-01, -1.01215512e-01,  9.80398059e-03,\n",
       "          1.21192634e-03],\n",
       "        [-1.27612740e-01, -9.93106067e-02,  1.74271554e-01,\n",
       "         -1.90643698e-01, -9.20185894e-02,  5.86378872e-02,\n",
       "         -6.91734105e-02,  7.21174777e-02, -1.38584048e-01,\n",
       "         -1.46759748e-02],\n",
       "        [ 2.18977004e-01,  7.64849782e-02, -3.15396786e-02,\n",
       "          1.33174986e-01,  1.73110127e-01,  6.85108006e-02,\n",
       "          2.22487718e-01, -1.39549196e-01,  2.13046134e-01,\n",
       "         -1.70563012e-02],\n",
       "        [-4.34880406e-02,  1.18247807e-01, -3.16671282e-02,\n",
       "         -4.74373847e-02, -2.66784132e-02, -1.61848947e-01,\n",
       "         -6.26926273e-02, -5.76677173e-02,  1.61484390e-01,\n",
       "          2.18677193e-01],\n",
       "        [ 1.68780863e-01,  1.00760639e-01, -3.19593549e-02,\n",
       "          1.71785831e-01,  1.34775192e-01,  1.36470616e-01,\n",
       "          1.40349567e-01,  2.66229510e-02,  5.48321903e-02,\n",
       "          1.65415108e-02],\n",
       "        [-8.57959539e-02,  1.96229309e-01,  2.98070014e-02,\n",
       "         -1.93248749e-01, -1.40067428e-01,  3.17099988e-02,\n",
       "         -1.96921408e-01,  4.20865417e-03,  1.48145676e-01,\n",
       "          1.09109968e-01],\n",
       "        [-1.72924995e-01, -4.89339232e-04,  1.42204285e-01,\n",
       "         -2.82191038e-02,  1.69265151e-01,  6.54169917e-03,\n",
       "          6.23255670e-02, -1.48879588e-01, -4.13205922e-02,\n",
       "          1.49232596e-02],\n",
       "        [ 4.90177572e-02, -9.34985727e-02, -2.10363239e-01,\n",
       "         -6.99400604e-02, -1.45516455e-01, -9.91351604e-02,\n",
       "          1.09897405e-02, -1.40323117e-01, -2.21217781e-01,\n",
       "         -6.98977709e-03],\n",
       "        [ 5.89196384e-02, -1.91233814e-01,  2.29343772e-02,\n",
       "          1.73551083e-01,  1.19915217e-01, -9.64850485e-02,\n",
       "          2.22631395e-01, -2.19054788e-01, -7.41425902e-02,\n",
       "          1.65355444e-01],\n",
       "        [ 6.76143169e-03,  1.43029958e-01, -1.64810359e-01,\n",
       "          6.23174906e-02, -5.99124581e-02,  4.30159569e-02,\n",
       "          1.48840994e-01, -1.26556322e-01,  1.04330838e-01,\n",
       "          1.99635804e-01],\n",
       "        [ 2.25314856e-01, -1.03062674e-01, -1.23718351e-01,\n",
       "         -1.10076398e-01, -1.26370966e-01,  1.78403705e-01,\n",
       "         -1.25958353e-01, -9.54138339e-02,  2.09792584e-01,\n",
       "         -3.12056392e-02],\n",
       "        [-1.11530989e-01, -8.31622779e-02,  8.95904303e-02,\n",
       "          1.65339798e-01,  1.72766030e-01,  4.11119461e-02,\n",
       "          1.15127295e-01, -5.73019981e-02,  7.25215077e-02,\n",
       "          2.09875017e-01],\n",
       "        [ 2.23095328e-01, -6.09973222e-02,  2.21979409e-01,\n",
       "          1.66772693e-01,  1.45889193e-01,  7.50331581e-02,\n",
       "          1.85100883e-01, -1.69952765e-01, -1.15653619e-01,\n",
       "          1.84497625e-01],\n",
       "        [-6.41105324e-02,  9.84654725e-02,  1.28829569e-01,\n",
       "         -1.62368357e-01,  1.39263868e-01, -6.44837320e-03,\n",
       "         -7.95419514e-03, -2.07609057e-01, -7.43369758e-02,\n",
       "         -2.25041330e-01],\n",
       "        [ 2.09037602e-01, -1.51793957e-01, -1.19329989e-02,\n",
       "          1.13062382e-01, -1.10728882e-01,  7.08653927e-02,\n",
       "          9.81718898e-02, -4.84077632e-02,  1.89226568e-02,\n",
       "         -4.93352711e-02],\n",
       "        [-5.66688329e-02, -1.13475479e-01,  1.03948742e-01,\n",
       "          1.75527036e-01,  1.36043340e-01,  1.94608241e-01,\n",
       "         -1.77155644e-01,  1.71505988e-01,  1.32732093e-01,\n",
       "         -1.53004497e-01],\n",
       "        [ 2.07475126e-02, -4.39445227e-02, -1.22209407e-01,\n",
       "          2.18481690e-01,  1.07074380e-01,  2.04720736e-01,\n",
       "         -4.26416099e-02, -2.21263379e-01,  2.11033314e-01,\n",
       "          2.01309532e-01],\n",
       "        [-1.26177683e-01, -5.79694659e-02, -4.95948046e-02,\n",
       "         -1.46659240e-01,  1.07581705e-01, -7.30831176e-02,\n",
       "          1.19603127e-01, -8.31070393e-02,  1.08379632e-01,\n",
       "          1.23770624e-01],\n",
       "        [ 2.22552925e-01, -1.29146174e-01, -1.11884795e-01,\n",
       "         -1.98035225e-01,  1.35557145e-01,  1.34780914e-01,\n",
       "          1.27798706e-01,  1.37692720e-01,  8.82340968e-03,\n",
       "          1.41357601e-01],\n",
       "        [ 2.24949449e-01,  2.09597707e-01, -1.12039648e-01,\n",
       "          2.15239853e-01,  1.36942476e-01,  2.23409951e-01,\n",
       "         -1.21148653e-01, -1.53084844e-02,  1.68034792e-01,\n",
       "         -1.55038685e-02],\n",
       "        [-8.70309919e-02,  4.85222638e-02, -2.02456027e-01,\n",
       "          1.52405471e-01, -2.24483162e-01, -4.11018729e-02,\n",
       "         -1.65488079e-01, -1.70604140e-02,  1.48016155e-01,\n",
       "         -5.91343641e-03],\n",
       "        [ 1.59572184e-01,  2.07190454e-01, -7.72401541e-02,\n",
       "         -3.45385671e-02, -2.19598964e-01,  1.65709376e-01,\n",
       "         -5.27973324e-02,  6.27711415e-02, -1.49691880e-01,\n",
       "         -1.53344154e-01],\n",
       "        [ 5.00366092e-04, -1.66176707e-01, -1.39650017e-01,\n",
       "         -8.86681080e-02,  1.67856812e-02, -1.86021626e-02,\n",
       "         -3.12519073e-02, -2.05815911e-01,  9.49008763e-03,\n",
       "         -3.06873918e-02],\n",
       "        [ 1.58953339e-01, -1.37263194e-01, -1.15196407e-03,\n",
       "         -1.43693030e-01, -5.29199839e-04, -3.05113345e-02,\n",
       "          1.00716323e-01,  1.72916353e-01,  2.13103473e-01,\n",
       "         -1.21354289e-01],\n",
       "        [ 3.02720666e-02,  1.37302995e-01, -3.03128809e-02,\n",
       "         -1.49652690e-01,  1.81593090e-01, -1.26994103e-01,\n",
       "         -4.02718782e-03, -1.11339167e-01,  2.13867456e-01,\n",
       "         -2.92928815e-02],\n",
       "        [-7.21843988e-02,  1.63577557e-01,  3.19306254e-02,\n",
       "          1.27593011e-01,  1.02647603e-01, -1.14379153e-01,\n",
       "          1.12134218e-02,  2.07557291e-01,  6.32326901e-02,\n",
       "         -2.00709268e-01],\n",
       "        [ 1.65613472e-01, -1.06923819e-01, -2.01331973e-01,\n",
       "         -1.95343345e-02, -2.98660249e-02, -2.17278734e-01,\n",
       "          1.71692520e-01, -2.88498700e-02, -2.67444551e-02,\n",
       "         -2.13501453e-02],\n",
       "        [ 1.53778255e-01,  1.22938305e-02, -1.45892262e-01,\n",
       "          2.83690095e-02, -1.27795815e-01, -1.18005760e-01,\n",
       "          1.38932943e-01,  1.16105974e-02,  2.05666453e-01,\n",
       "         -1.71304569e-01]], dtype=float32),\n",
       " array([0., 0., 0., 0., 0., 0., 0., 0., 0., 0.], dtype=float32)]"
      ]
     },
     "execution_count": 32,
     "metadata": {},
     "output_type": "execute_result"
    }
   ],
   "source": [
    "hidden1.get_weights()"
   ]
  },
  {
   "cell_type": "code",
   "execution_count": 40,
   "id": "dbc4ae12",
   "metadata": {},
   "outputs": [],
   "source": [
    "LOSS_FUNCTION = \"sparse_categorical_crossentropy\"\n",
    "OPTIMIZER = \"adam\"\n",
    "METRICS = [\"accuracy\"]\n",
    "\n",
    "model_clf.compile(loss=LOSS_FUNCTION,\n",
    "                  optimizer=OPTIMIZER,\n",
    "                  metrics=METRICS)\n"
   ]
  },
  {
   "cell_type": "code",
   "execution_count": 41,
   "id": "c393a5e5",
   "metadata": {},
   "outputs": [
    {
     "name": "stdout",
     "output_type": "stream",
     "text": [
      "Epoch 1/30\n",
      "1719/1719 [==============================] - 19s 9ms/step - loss: 0.2134 - accuracy: 0.9362 - val_loss: 0.0954 - val_accuracy: 0.9712\n",
      "Epoch 2/30\n",
      "1719/1719 [==============================] - 14s 8ms/step - loss: 0.0894 - accuracy: 0.9723 - val_loss: 0.0776 - val_accuracy: 0.9764\n",
      "Epoch 3/30\n",
      "1719/1719 [==============================] - 11s 6ms/step - loss: 0.0593 - accuracy: 0.9808 - val_loss: 0.0737 - val_accuracy: 0.9786\n",
      "Epoch 4/30\n",
      "1719/1719 [==============================] - 12s 7ms/step - loss: 0.0437 - accuracy: 0.9857 - val_loss: 0.0608 - val_accuracy: 0.9840\n",
      "Epoch 5/30\n",
      "1719/1719 [==============================] - 12s 7ms/step - loss: 0.0352 - accuracy: 0.9887 - val_loss: 0.0826 - val_accuracy: 0.9762\n",
      "Epoch 6/30\n",
      "1719/1719 [==============================] - 12s 7ms/step - loss: 0.0288 - accuracy: 0.9907 - val_loss: 0.0707 - val_accuracy: 0.9818\n",
      "Epoch 7/30\n",
      "1719/1719 [==============================] - 10s 6ms/step - loss: 0.0232 - accuracy: 0.9919 - val_loss: 0.0807 - val_accuracy: 0.9788\n",
      "Epoch 8/30\n",
      "1719/1719 [==============================] - 11s 6ms/step - loss: 0.0207 - accuracy: 0.9930 - val_loss: 0.0967 - val_accuracy: 0.9772\n",
      "Epoch 9/30\n",
      "1719/1719 [==============================] - 12s 7ms/step - loss: 0.0176 - accuracy: 0.9941 - val_loss: 0.0787 - val_accuracy: 0.9812\n",
      "Epoch 10/30\n",
      "1719/1719 [==============================] - 12s 7ms/step - loss: 0.0150 - accuracy: 0.9948 - val_loss: 0.0965 - val_accuracy: 0.9800\n",
      "Epoch 11/30\n",
      "1719/1719 [==============================] - 11s 7ms/step - loss: 0.0161 - accuracy: 0.9946 - val_loss: 0.0983 - val_accuracy: 0.9822\n",
      "Epoch 12/30\n",
      "1719/1719 [==============================] - 11s 6ms/step - loss: 0.0133 - accuracy: 0.9956 - val_loss: 0.0914 - val_accuracy: 0.9818\n",
      "Epoch 13/30\n",
      "1719/1719 [==============================] - 12s 7ms/step - loss: 0.0130 - accuracy: 0.9952 - val_loss: 0.1014 - val_accuracy: 0.9818\n",
      "Epoch 14/30\n",
      "1719/1719 [==============================] - 11s 7ms/step - loss: 0.0114 - accuracy: 0.9966 - val_loss: 0.0980 - val_accuracy: 0.9806\n",
      "Epoch 15/30\n",
      "1719/1719 [==============================] - 11s 7ms/step - loss: 0.0113 - accuracy: 0.9968 - val_loss: 0.1337 - val_accuracy: 0.9786\n",
      "Epoch 16/30\n",
      "1719/1719 [==============================] - 11s 7ms/step - loss: 0.0103 - accuracy: 0.9968 - val_loss: 0.0891 - val_accuracy: 0.9830\n",
      "Epoch 17/30\n",
      "1719/1719 [==============================] - 11s 6ms/step - loss: 0.0100 - accuracy: 0.9970 - val_loss: 0.1082 - val_accuracy: 0.9810\n",
      "Epoch 18/30\n",
      "1719/1719 [==============================] - 10s 6ms/step - loss: 0.0099 - accuracy: 0.9970 - val_loss: 0.1365 - val_accuracy: 0.9770\n",
      "Epoch 19/30\n",
      "1719/1719 [==============================] - 11s 6ms/step - loss: 0.0108 - accuracy: 0.9966 - val_loss: 0.1137 - val_accuracy: 0.9838\n",
      "Epoch 20/30\n",
      "1719/1719 [==============================] - 10s 6ms/step - loss: 0.0095 - accuracy: 0.9973 - val_loss: 0.1300 - val_accuracy: 0.9786\n",
      "Epoch 21/30\n",
      "1719/1719 [==============================] - 10s 6ms/step - loss: 0.0080 - accuracy: 0.9978 - val_loss: 0.1318 - val_accuracy: 0.9816\n",
      "Epoch 22/30\n",
      "1719/1719 [==============================] - 12s 7ms/step - loss: 0.0112 - accuracy: 0.9968 - val_loss: 0.1202 - val_accuracy: 0.9814\n",
      "Epoch 23/30\n",
      "1719/1719 [==============================] - 11s 7ms/step - loss: 0.0098 - accuracy: 0.9973 - val_loss: 0.1238 - val_accuracy: 0.9818\n",
      "Epoch 24/30\n",
      "1719/1719 [==============================] - 11s 6ms/step - loss: 0.0065 - accuracy: 0.9980 - val_loss: 0.1304 - val_accuracy: 0.9828\n",
      "Epoch 25/30\n",
      "1719/1719 [==============================] - 11s 6ms/step - loss: 0.0072 - accuracy: 0.9976 - val_loss: 0.1722 - val_accuracy: 0.9790\n",
      "Epoch 26/30\n",
      "1719/1719 [==============================] - 11s 6ms/step - loss: 0.0066 - accuracy: 0.9980 - val_loss: 0.1412 - val_accuracy: 0.9812\n",
      "Epoch 27/30\n",
      "1719/1719 [==============================] - 11s 6ms/step - loss: 0.0060 - accuracy: 0.9979 - val_loss: 0.1333 - val_accuracy: 0.9826\n",
      "Epoch 28/30\n",
      "1719/1719 [==============================] - 10s 6ms/step - loss: 0.0091 - accuracy: 0.9978 - val_loss: 0.1255 - val_accuracy: 0.9822\n",
      "Epoch 29/30\n",
      "1719/1719 [==============================] - 11s 6ms/step - loss: 0.0067 - accuracy: 0.9981 - val_loss: 0.1626 - val_accuracy: 0.9816\n",
      "Epoch 30/30\n",
      "1719/1719 [==============================] - 11s 6ms/step - loss: 0.0075 - accuracy: 0.9979 - val_loss: 0.1599 - val_accuracy: 0.9778\n"
     ]
    }
   ],
   "source": [
    "## Training\n",
    "\n",
    "EPOCHS = 30\n",
    "VALIDATION_SET = (X_valid, y_valid)\n",
    "\n",
    "history = model_clf.fit(X_train, y_train, epochs=EPOCHS,\n",
    "                       validation_data = VALIDATION_SET, batch_size=32)"
   ]
  },
  {
   "cell_type": "code",
   "execution_count": 43,
   "id": "bdddc276",
   "metadata": {},
   "outputs": [
    {
     "data": {
      "text/plain": [
       "{'verbose': 1, 'epochs': 30, 'steps': 1719}"
      ]
     },
     "execution_count": 43,
     "metadata": {},
     "output_type": "execute_result"
    }
   ],
   "source": [
    "history.params"
   ]
  },
  {
   "cell_type": "code",
   "execution_count": 45,
   "id": "9b7daafe",
   "metadata": {},
   "outputs": [
    {
     "data": {
      "text/html": [
       "<div>\n",
       "<style scoped>\n",
       "    .dataframe tbody tr th:only-of-type {\n",
       "        vertical-align: middle;\n",
       "    }\n",
       "\n",
       "    .dataframe tbody tr th {\n",
       "        vertical-align: top;\n",
       "    }\n",
       "\n",
       "    .dataframe thead th {\n",
       "        text-align: right;\n",
       "    }\n",
       "</style>\n",
       "<table border=\"1\" class=\"dataframe\">\n",
       "  <thead>\n",
       "    <tr style=\"text-align: right;\">\n",
       "      <th></th>\n",
       "      <th>loss</th>\n",
       "      <th>accuracy</th>\n",
       "      <th>val_loss</th>\n",
       "      <th>val_accuracy</th>\n",
       "    </tr>\n",
       "  </thead>\n",
       "  <tbody>\n",
       "    <tr>\n",
       "      <th>0</th>\n",
       "      <td>0.213380</td>\n",
       "      <td>0.936218</td>\n",
       "      <td>0.095359</td>\n",
       "      <td>0.9712</td>\n",
       "    </tr>\n",
       "    <tr>\n",
       "      <th>1</th>\n",
       "      <td>0.089395</td>\n",
       "      <td>0.972309</td>\n",
       "      <td>0.077584</td>\n",
       "      <td>0.9764</td>\n",
       "    </tr>\n",
       "    <tr>\n",
       "      <th>2</th>\n",
       "      <td>0.059268</td>\n",
       "      <td>0.980818</td>\n",
       "      <td>0.073740</td>\n",
       "      <td>0.9786</td>\n",
       "    </tr>\n",
       "    <tr>\n",
       "      <th>3</th>\n",
       "      <td>0.043660</td>\n",
       "      <td>0.985727</td>\n",
       "      <td>0.060837</td>\n",
       "      <td>0.9840</td>\n",
       "    </tr>\n",
       "    <tr>\n",
       "      <th>4</th>\n",
       "      <td>0.035184</td>\n",
       "      <td>0.988691</td>\n",
       "      <td>0.082583</td>\n",
       "      <td>0.9762</td>\n",
       "    </tr>\n",
       "    <tr>\n",
       "      <th>5</th>\n",
       "      <td>0.028805</td>\n",
       "      <td>0.990709</td>\n",
       "      <td>0.070699</td>\n",
       "      <td>0.9818</td>\n",
       "    </tr>\n",
       "    <tr>\n",
       "      <th>6</th>\n",
       "      <td>0.023206</td>\n",
       "      <td>0.991855</td>\n",
       "      <td>0.080707</td>\n",
       "      <td>0.9788</td>\n",
       "    </tr>\n",
       "    <tr>\n",
       "      <th>7</th>\n",
       "      <td>0.020741</td>\n",
       "      <td>0.993036</td>\n",
       "      <td>0.096654</td>\n",
       "      <td>0.9772</td>\n",
       "    </tr>\n",
       "    <tr>\n",
       "      <th>8</th>\n",
       "      <td>0.017582</td>\n",
       "      <td>0.994055</td>\n",
       "      <td>0.078696</td>\n",
       "      <td>0.9812</td>\n",
       "    </tr>\n",
       "    <tr>\n",
       "      <th>9</th>\n",
       "      <td>0.015027</td>\n",
       "      <td>0.994782</td>\n",
       "      <td>0.096499</td>\n",
       "      <td>0.9800</td>\n",
       "    </tr>\n",
       "    <tr>\n",
       "      <th>10</th>\n",
       "      <td>0.016084</td>\n",
       "      <td>0.994636</td>\n",
       "      <td>0.098322</td>\n",
       "      <td>0.9822</td>\n",
       "    </tr>\n",
       "    <tr>\n",
       "      <th>11</th>\n",
       "      <td>0.013251</td>\n",
       "      <td>0.995582</td>\n",
       "      <td>0.091418</td>\n",
       "      <td>0.9818</td>\n",
       "    </tr>\n",
       "    <tr>\n",
       "      <th>12</th>\n",
       "      <td>0.013037</td>\n",
       "      <td>0.995200</td>\n",
       "      <td>0.101406</td>\n",
       "      <td>0.9818</td>\n",
       "    </tr>\n",
       "    <tr>\n",
       "      <th>13</th>\n",
       "      <td>0.011410</td>\n",
       "      <td>0.996618</td>\n",
       "      <td>0.097984</td>\n",
       "      <td>0.9806</td>\n",
       "    </tr>\n",
       "    <tr>\n",
       "      <th>14</th>\n",
       "      <td>0.011266</td>\n",
       "      <td>0.996764</td>\n",
       "      <td>0.133738</td>\n",
       "      <td>0.9786</td>\n",
       "    </tr>\n",
       "    <tr>\n",
       "      <th>15</th>\n",
       "      <td>0.010300</td>\n",
       "      <td>0.996800</td>\n",
       "      <td>0.089106</td>\n",
       "      <td>0.9830</td>\n",
       "    </tr>\n",
       "    <tr>\n",
       "      <th>16</th>\n",
       "      <td>0.009981</td>\n",
       "      <td>0.997000</td>\n",
       "      <td>0.108170</td>\n",
       "      <td>0.9810</td>\n",
       "    </tr>\n",
       "    <tr>\n",
       "      <th>17</th>\n",
       "      <td>0.009910</td>\n",
       "      <td>0.997036</td>\n",
       "      <td>0.136491</td>\n",
       "      <td>0.9770</td>\n",
       "    </tr>\n",
       "    <tr>\n",
       "      <th>18</th>\n",
       "      <td>0.010825</td>\n",
       "      <td>0.996618</td>\n",
       "      <td>0.113734</td>\n",
       "      <td>0.9838</td>\n",
       "    </tr>\n",
       "    <tr>\n",
       "      <th>19</th>\n",
       "      <td>0.009465</td>\n",
       "      <td>0.997255</td>\n",
       "      <td>0.129976</td>\n",
       "      <td>0.9786</td>\n",
       "    </tr>\n",
       "    <tr>\n",
       "      <th>20</th>\n",
       "      <td>0.007953</td>\n",
       "      <td>0.997800</td>\n",
       "      <td>0.131817</td>\n",
       "      <td>0.9816</td>\n",
       "    </tr>\n",
       "    <tr>\n",
       "      <th>21</th>\n",
       "      <td>0.011187</td>\n",
       "      <td>0.996782</td>\n",
       "      <td>0.120246</td>\n",
       "      <td>0.9814</td>\n",
       "    </tr>\n",
       "    <tr>\n",
       "      <th>22</th>\n",
       "      <td>0.009800</td>\n",
       "      <td>0.997291</td>\n",
       "      <td>0.123821</td>\n",
       "      <td>0.9818</td>\n",
       "    </tr>\n",
       "    <tr>\n",
       "      <th>23</th>\n",
       "      <td>0.006519</td>\n",
       "      <td>0.998036</td>\n",
       "      <td>0.130405</td>\n",
       "      <td>0.9828</td>\n",
       "    </tr>\n",
       "    <tr>\n",
       "      <th>24</th>\n",
       "      <td>0.007202</td>\n",
       "      <td>0.997564</td>\n",
       "      <td>0.172153</td>\n",
       "      <td>0.9790</td>\n",
       "    </tr>\n",
       "    <tr>\n",
       "      <th>25</th>\n",
       "      <td>0.006595</td>\n",
       "      <td>0.998018</td>\n",
       "      <td>0.141238</td>\n",
       "      <td>0.9812</td>\n",
       "    </tr>\n",
       "    <tr>\n",
       "      <th>26</th>\n",
       "      <td>0.005999</td>\n",
       "      <td>0.997909</td>\n",
       "      <td>0.133294</td>\n",
       "      <td>0.9826</td>\n",
       "    </tr>\n",
       "    <tr>\n",
       "      <th>27</th>\n",
       "      <td>0.009124</td>\n",
       "      <td>0.997764</td>\n",
       "      <td>0.125477</td>\n",
       "      <td>0.9822</td>\n",
       "    </tr>\n",
       "    <tr>\n",
       "      <th>28</th>\n",
       "      <td>0.006696</td>\n",
       "      <td>0.998091</td>\n",
       "      <td>0.162614</td>\n",
       "      <td>0.9816</td>\n",
       "    </tr>\n",
       "    <tr>\n",
       "      <th>29</th>\n",
       "      <td>0.007451</td>\n",
       "      <td>0.997945</td>\n",
       "      <td>0.159876</td>\n",
       "      <td>0.9778</td>\n",
       "    </tr>\n",
       "  </tbody>\n",
       "</table>\n",
       "</div>"
      ],
      "text/plain": [
       "        loss  accuracy  val_loss  val_accuracy\n",
       "0   0.213380  0.936218  0.095359        0.9712\n",
       "1   0.089395  0.972309  0.077584        0.9764\n",
       "2   0.059268  0.980818  0.073740        0.9786\n",
       "3   0.043660  0.985727  0.060837        0.9840\n",
       "4   0.035184  0.988691  0.082583        0.9762\n",
       "5   0.028805  0.990709  0.070699        0.9818\n",
       "6   0.023206  0.991855  0.080707        0.9788\n",
       "7   0.020741  0.993036  0.096654        0.9772\n",
       "8   0.017582  0.994055  0.078696        0.9812\n",
       "9   0.015027  0.994782  0.096499        0.9800\n",
       "10  0.016084  0.994636  0.098322        0.9822\n",
       "11  0.013251  0.995582  0.091418        0.9818\n",
       "12  0.013037  0.995200  0.101406        0.9818\n",
       "13  0.011410  0.996618  0.097984        0.9806\n",
       "14  0.011266  0.996764  0.133738        0.9786\n",
       "15  0.010300  0.996800  0.089106        0.9830\n",
       "16  0.009981  0.997000  0.108170        0.9810\n",
       "17  0.009910  0.997036  0.136491        0.9770\n",
       "18  0.010825  0.996618  0.113734        0.9838\n",
       "19  0.009465  0.997255  0.129976        0.9786\n",
       "20  0.007953  0.997800  0.131817        0.9816\n",
       "21  0.011187  0.996782  0.120246        0.9814\n",
       "22  0.009800  0.997291  0.123821        0.9818\n",
       "23  0.006519  0.998036  0.130405        0.9828\n",
       "24  0.007202  0.997564  0.172153        0.9790\n",
       "25  0.006595  0.998018  0.141238        0.9812\n",
       "26  0.005999  0.997909  0.133294        0.9826\n",
       "27  0.009124  0.997764  0.125477        0.9822\n",
       "28  0.006696  0.998091  0.162614        0.9816\n",
       "29  0.007451  0.997945  0.159876        0.9778"
      ]
     },
     "execution_count": 45,
     "metadata": {},
     "output_type": "execute_result"
    }
   ],
   "source": [
    "## Now seeing history in the table format\n",
    "pd.DataFrame(history.history)"
   ]
  },
  {
   "cell_type": "code",
   "execution_count": 47,
   "id": "b1acb3c9",
   "metadata": {},
   "outputs": [
    {
     "data": {
      "text/plain": [
       "<AxesSubplot:>"
      ]
     },
     "execution_count": 47,
     "metadata": {},
     "output_type": "execute_result"
    },
    {
     "data": {
      "image/png": "[encoded data removed]",
      "text/plain": [
       "<Figure size 640x480 with 1 Axes>"
      ]
     },
     "metadata": {},
     "output_type": "display_data"
    }
   ],
   "source": [
    "pd.DataFrame(history.history).plot()"
   ]
  },
  {
   "cell_type": "code",
   "execution_count": 48,
   "id": "08c02b4d",
   "metadata": {},
   "outputs": [
    {
     "name": "stdout",
     "output_type": "stream",
     "text": [
      "313/313 [==============================] - 1s 4ms/step - loss: 0.1940 - accuracy: 0.9770\n"
     ]
    },
    {
     "data": {
      "text/plain": [
       "[0.19404006004333496, 0.9769999980926514]"
      ]
     },
     "execution_count": 48,
     "metadata": {},
     "output_type": "execute_result"
    }
   ],
   "source": [
    "model_clf.evaluate(X_test, y_test)"
   ]
  },
  {
   "cell_type": "code",
   "execution_count": 49,
   "id": "1b02052a",
   "metadata": {},
   "outputs": [],
   "source": [
    "## Let's check sample test\n",
    "x_new = X_test[:3]"
   ]
  },
  {
   "cell_type": "code",
   "execution_count": 53,
   "id": "3d262726",
   "metadata": {},
   "outputs": [
    {
     "data": {
      "text/plain": [
       "array([7, 2, 1], dtype=uint8)"
      ]
     },
     "execution_count": 53,
     "metadata": {},
     "output_type": "execute_result"
    }
   ],
   "source": [
    "actual = y_test[:3]\n",
    "actual"
   ]
  },
  {
   "cell_type": "code",
   "execution_count": 52,
   "id": "370e222d",
   "metadata": {},
   "outputs": [
    {
     "name": "stdout",
     "output_type": "stream",
     "text": [
      "1/1 [==============================] - 0s 132ms/step\n"
     ]
    },
    {
     "data": {
      "text/plain": [
       "array([[0., 0., 0., 0., 0., 0., 0., 1., 0., 0.],\n",
       "       [0., 0., 1., 0., 0., 0., 0., 0., 0., 0.],\n",
       "       [0., 1., 0., 0., 0., 0., 0., 0., 0., 0.]], dtype=float32)"
      ]
     },
     "execution_count": 52,
     "metadata": {},
     "output_type": "execute_result"
    }
   ],
   "source": [
    "y_prob = model_clf.predict(x_new)\n",
    "y_prob.round(3)"
   ]
  },
  {
   "cell_type": "code",
   "execution_count": 54,
   "id": "d4ebb046",
   "metadata": {},
   "outputs": [
    {
     "data": {
      "text/plain": [
       "array([[1.0174538e-23, 3.7012470e-23, 6.1730562e-23, 1.0650255e-17,\n",
       "        2.4420616e-20, 1.2951135e-30, 5.3413782e-30, 1.0000000e+00,\n",
       "        1.5810742e-20, 1.9470975e-15],\n",
       "       [2.1343566e-19, 1.5664149e-19, 1.0000000e+00, 1.2452404e-25,\n",
       "        7.8341792e-27, 6.4802653e-33, 1.4114700e-29, 4.3218325e-24,\n",
       "        2.3397867e-22, 0.0000000e+00],\n",
       "       [2.2961063e-07, 9.9998534e-01, 3.0650973e-08, 1.9386817e-09,\n",
       "        2.3660133e-08, 1.0242939e-06, 1.2283545e-08, 1.2207240e-08,\n",
       "        1.3392432e-05, 3.4195912e-12]], dtype=float32)"
      ]
     },
     "execution_count": 54,
     "metadata": {},
     "output_type": "execute_result"
    }
   ],
   "source": [
    "y_prob"
   ]
  },
  {
   "cell_type": "code",
   "execution_count": 55,
   "id": "ea68219f",
   "metadata": {},
   "outputs": [],
   "source": [
    "y_pred = np.argmax(y_prob, axis = -1)"
   ]
  },
  {
   "cell_type": "code",
   "execution_count": 56,
   "id": "bbf24394",
   "metadata": {},
   "outputs": [
    {
     "data": {
      "text/plain": [
       "array([7, 2, 1], dtype=int64)"
      ]
     },
     "execution_count": 56,
     "metadata": {},
     "output_type": "execute_result"
    }
   ],
   "source": [
    "y_pred"
   ]
  },
  {
   "cell_type": "code",
   "execution_count": 57,
   "id": "bfb3f112",
   "metadata": {},
   "outputs": [
    {
     "data": {
      "text/plain": [
       "array([7, 2, 1], dtype=uint8)"
      ]
     },
     "execution_count": 57,
     "metadata": {},
     "output_type": "execute_result"
    }
   ],
   "source": [
    "actual"
   ]
  },
  {
   "cell_type": "code",
   "execution_count": 66,
   "id": "5a93d0d7",
   "metadata": {},
   "outputs": [
    {
     "data": {
      "image/png": "[encoded data removed]",
      "text/plain": [
       "<Figure size 640x480 with 1 Axes>"
      ]
     },
     "metadata": {},
     "output_type": "display_data"
    },
    {
     "name": "stdout",
     "output_type": "stream",
     "text": [
      "##########################\n"
     ]
    },
    {
     "data": {
      "image/png": "[encoded data removed]",
      "text/plain": [
       "<Figure size 640x480 with 1 Axes>"
      ]
     },
     "metadata": {},
     "output_type": "display_data"
    },
    {
     "name": "stdout",
     "output_type": "stream",
     "text": [
      "##########################\n"
     ]
    },
    {
     "data": {
      "image/png": "[encoded data removed]",
      "text/plain": [
       "<Figure size 640x480 with 1 Axes>"
      ]
     },
     "metadata": {},
     "output_type": "display_data"
    },
    {
     "name": "stdout",
     "output_type": "stream",
     "text": [
      "##########################\n"
     ]
    }
   ],
   "source": [
    "## Let's visualize from plot\n",
    "for data, pred, actual_data in zip(x_new, y_pred, actual):\n",
    "    plt.imshow(data, cmap=\"binary\")\n",
    "    plt.title(f\"Predicted {pred} and Actual {actual_data}\")\n",
    "    plt.axis=(\"off\")\n",
    "    plt.show()\n",
    "    print(\"##########################\")"
   ]
  },
  {
   "cell_type": "code",
   "execution_count": null,
   "id": "2a547865",
   "metadata": {},
   "outputs": [],
   "source": []
  }
 ],
 "metadata": {
  "kernelspec": {
   "display_name": "Python 3 (ipykernel)",
   "language": "python",
   "name": "python3"
  },
  "language_info": {
   "codemirror_mode": {
    "name": "ipython",
    "version": 3
   },
   "file_extension": ".py",
   "mimetype": "text/x-python",
   "name": "python",
   "nbconvert_exporter": "python",
   "pygments_lexer": "ipython3",
   "version": "3.9.18"
  }
 },
 "nbformat": 4,
 "nbformat_minor": 5
}
